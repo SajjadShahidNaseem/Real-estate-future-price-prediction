{
 "cells": [
  {
   "cell_type": "code",
   "execution_count": 48,
   "metadata": {},
   "outputs": [],
   "source": [
    "import numpy as np\n",
    "import pandas as pd\n",
    "from sklearn.tree import DecisionTreeClassifier\n",
    "from sklearn.ensemble import RandomForestClassifier\n",
    "from sklearn.ensemble import RandomForestRegressor\n",
    "from sklearn.ensemble import AdaBoostClassifier\n",
    "from sklearn.ensemble import GradientBoostingClassifier\n",
    "from sklearn.svm import SVC\n",
    "from sklearn.svm import SVR\n",
    "from sklearn.naive_bayes import GaussianNB\n",
    "from matplotlib import pyplot as plt\n",
    "from sklearn.model_selection import train_test_split\n",
    "import seaborn as sns\n",
    "from sklearn.preprocessing import MinMaxScaler\n",
    "from xgboost import XGBClassifier\n",
    "from sklearn.metrics import accuracy_score\n",
    "\n",
    "from sklearn.metrics import confusion_matrix \n",
    "from sklearn.metrics import accuracy_score \n",
    "from sklearn.metrics import classification_report\n",
    "from numpy import loadtxt\n",
    "from keras.models import Sequential\n",
    "from keras.layers import Dense\n",
    "from keras.models import model_from_json\n",
    "from keras.models import model_from_yaml\n",
    "from sklearn import model_selection\n",
    "from sklearn.linear_model import LinearRegression\n",
    "from datetime import date\n",
    "\n",
    "import pickle\n",
    "import os"
   ]
  },
  {
   "cell_type": "code",
   "execution_count": 2,
   "metadata": {},
   "outputs": [
    {
     "data": {
      "text/html": [
       "<div>\n",
       "<style scoped>\n",
       "    .dataframe tbody tr th:only-of-type {\n",
       "        vertical-align: middle;\n",
       "    }\n",
       "\n",
       "    .dataframe tbody tr th {\n",
       "        vertical-align: top;\n",
       "    }\n",
       "\n",
       "    .dataframe thead th {\n",
       "        text-align: right;\n",
       "    }\n",
       "</style>\n",
       "<table border=\"1\" class=\"dataframe\">\n",
       "  <thead>\n",
       "    <tr style=\"text-align: right;\">\n",
       "      <th></th>\n",
       "      <th>Unnamed: 0</th>\n",
       "      <th>ds</th>\n",
       "      <th>location</th>\n",
       "      <th>Area_Marla</th>\n",
       "      <th>bedrooms</th>\n",
       "      <th>bathrooms</th>\n",
       "      <th>yhat</th>\n",
       "    </tr>\n",
       "  </thead>\n",
       "  <tbody>\n",
       "    <tr>\n",
       "      <th>0</th>\n",
       "      <td>0</td>\n",
       "      <td>2020-11-17</td>\n",
       "      <td>D-12, Islamabad</td>\n",
       "      <td>4.4</td>\n",
       "      <td>4</td>\n",
       "      <td>4</td>\n",
       "      <td>2.651258e+07</td>\n",
       "    </tr>\n",
       "    <tr>\n",
       "      <th>1</th>\n",
       "      <td>1</td>\n",
       "      <td>2021-12-17</td>\n",
       "      <td>D-12, Islamabad</td>\n",
       "      <td>4.4</td>\n",
       "      <td>4</td>\n",
       "      <td>4</td>\n",
       "      <td>2.702375e+07</td>\n",
       "    </tr>\n",
       "    <tr>\n",
       "      <th>2</th>\n",
       "      <td>2</td>\n",
       "      <td>2022-01-17</td>\n",
       "      <td>D-12, Islamabad</td>\n",
       "      <td>4.4</td>\n",
       "      <td>4</td>\n",
       "      <td>4</td>\n",
       "      <td>3.005134e+07</td>\n",
       "    </tr>\n",
       "    <tr>\n",
       "      <th>3</th>\n",
       "      <td>3</td>\n",
       "      <td>2022-01-20</td>\n",
       "      <td>D-12, Islamabad</td>\n",
       "      <td>4.4</td>\n",
       "      <td>4</td>\n",
       "      <td>4</td>\n",
       "      <td>3.126493e+07</td>\n",
       "    </tr>\n",
       "    <tr>\n",
       "      <th>4</th>\n",
       "      <td>4</td>\n",
       "      <td>2022-02-03</td>\n",
       "      <td>D-12, Islamabad</td>\n",
       "      <td>4.4</td>\n",
       "      <td>4</td>\n",
       "      <td>4</td>\n",
       "      <td>3.148655e+07</td>\n",
       "    </tr>\n",
       "  </tbody>\n",
       "</table>\n",
       "</div>"
      ],
      "text/plain": [
       "   Unnamed: 0          ds         location  Area_Marla  bedrooms  bathrooms  \\\n",
       "0           0  2020-11-17  D-12, Islamabad         4.4         4          4   \n",
       "1           1  2021-12-17  D-12, Islamabad         4.4         4          4   \n",
       "2           2  2022-01-17  D-12, Islamabad         4.4         4          4   \n",
       "3           3  2022-01-20  D-12, Islamabad         4.4         4          4   \n",
       "4           4  2022-02-03  D-12, Islamabad         4.4         4          4   \n",
       "\n",
       "           yhat  \n",
       "0  2.651258e+07  \n",
       "1  2.702375e+07  \n",
       "2  3.005134e+07  \n",
       "3  3.126493e+07  \n",
       "4  3.148655e+07  "
      ]
     },
     "execution_count": 2,
     "metadata": {},
     "output_type": "execute_result"
    }
   ],
   "source": [
    "df=pd.read_csv('fbP_forecasted_data.csv')\n",
    "df.head()"
   ]
  },
  {
   "cell_type": "code",
   "execution_count": 3,
   "metadata": {},
   "outputs": [],
   "source": [
    "dfX=df[['ds','location','Area_Marla','bedrooms','bathrooms','yhat']]\n",
    "dfX=dfX.rename(columns={\"yhat\":\"price\"})"
   ]
  },
  {
   "cell_type": "code",
   "execution_count": 49,
   "metadata": {},
   "outputs": [],
   "source": [
    "# dfX=dfX.head(500)"
   ]
  },
  {
   "cell_type": "code",
   "execution_count": 56,
   "metadata": {},
   "outputs": [
    {
     "data": {
      "text/plain": [
       "'2022-03-04'"
      ]
     },
     "execution_count": 56,
     "metadata": {},
     "output_type": "execute_result"
    }
   ],
   "source": [
    "today = date.today()\n",
    "today.year\n",
    "year=str(today.year)\n",
    "month=today.month\n",
    "day=today.day\n",
    "if(month<10):\n",
    "    month=\"0\"+str(month)\n",
    "else:\n",
    "    month=str(month)\n",
    "\n",
    "if(day<10):\n",
    "    day=\"0\"+str(day)\n",
    "else:\n",
    "    day=str(day)\n",
    "\n",
    "\n",
    "dat=year+\"-\"+month+\"-\"+day\n",
    "dat\n"
   ]
  },
  {
   "cell_type": "code",
   "execution_count": 5,
   "metadata": {},
   "outputs": [],
   "source": [
    "dfX=dfX[dfX['price']>0]"
   ]
  },
  {
   "cell_type": "code",
   "execution_count": 6,
   "metadata": {},
   "outputs": [
    {
     "data": {
      "text/html": [
       "<div>\n",
       "<style scoped>\n",
       "    .dataframe tbody tr th:only-of-type {\n",
       "        vertical-align: middle;\n",
       "    }\n",
       "\n",
       "    .dataframe tbody tr th {\n",
       "        vertical-align: top;\n",
       "    }\n",
       "\n",
       "    .dataframe thead th {\n",
       "        text-align: right;\n",
       "    }\n",
       "</style>\n",
       "<table border=\"1\" class=\"dataframe\">\n",
       "  <thead>\n",
       "    <tr style=\"text-align: right;\">\n",
       "      <th></th>\n",
       "      <th>ds</th>\n",
       "      <th>location</th>\n",
       "      <th>Area_Marla</th>\n",
       "      <th>bedrooms</th>\n",
       "      <th>bathrooms</th>\n",
       "      <th>price</th>\n",
       "    </tr>\n",
       "  </thead>\n",
       "  <tbody>\n",
       "    <tr>\n",
       "      <th>0</th>\n",
       "      <td>2020-11-17</td>\n",
       "      <td>D-12, Islamabad</td>\n",
       "      <td>4.4</td>\n",
       "      <td>4</td>\n",
       "      <td>4</td>\n",
       "      <td>2.651258e+07</td>\n",
       "    </tr>\n",
       "    <tr>\n",
       "      <th>1</th>\n",
       "      <td>2021-12-17</td>\n",
       "      <td>D-12, Islamabad</td>\n",
       "      <td>4.4</td>\n",
       "      <td>4</td>\n",
       "      <td>4</td>\n",
       "      <td>2.702375e+07</td>\n",
       "    </tr>\n",
       "    <tr>\n",
       "      <th>2</th>\n",
       "      <td>2022-01-17</td>\n",
       "      <td>D-12, Islamabad</td>\n",
       "      <td>4.4</td>\n",
       "      <td>4</td>\n",
       "      <td>4</td>\n",
       "      <td>3.005134e+07</td>\n",
       "    </tr>\n",
       "    <tr>\n",
       "      <th>3</th>\n",
       "      <td>2022-01-20</td>\n",
       "      <td>D-12, Islamabad</td>\n",
       "      <td>4.4</td>\n",
       "      <td>4</td>\n",
       "      <td>4</td>\n",
       "      <td>3.126493e+07</td>\n",
       "    </tr>\n",
       "    <tr>\n",
       "      <th>4</th>\n",
       "      <td>2022-02-03</td>\n",
       "      <td>D-12, Islamabad</td>\n",
       "      <td>4.4</td>\n",
       "      <td>4</td>\n",
       "      <td>4</td>\n",
       "      <td>3.148655e+07</td>\n",
       "    </tr>\n",
       "  </tbody>\n",
       "</table>\n",
       "</div>"
      ],
      "text/plain": [
       "           ds         location  Area_Marla  bedrooms  bathrooms         price\n",
       "0  2020-11-17  D-12, Islamabad         4.4         4          4  2.651258e+07\n",
       "1  2021-12-17  D-12, Islamabad         4.4         4          4  2.702375e+07\n",
       "2  2022-01-17  D-12, Islamabad         4.4         4          4  3.005134e+07\n",
       "3  2022-01-20  D-12, Islamabad         4.4         4          4  3.126493e+07\n",
       "4  2022-02-03  D-12, Islamabad         4.4         4          4  3.148655e+07"
      ]
     },
     "execution_count": 6,
     "metadata": {},
     "output_type": "execute_result"
    }
   ],
   "source": [
    "dfX.head()"
   ]
  },
  {
   "cell_type": "code",
   "execution_count": 13,
   "metadata": {},
   "outputs": [
    {
     "data": {
      "text/plain": [
       "array(['D-12, Islamabad', 'D-12/1, D-12', 'D-12/4, D-12'], dtype=object)"
      ]
     },
     "execution_count": 13,
     "metadata": {},
     "output_type": "execute_result"
    }
   ],
   "source": [
    "dfLoc=dfX['location'].unique()\n",
    "dfLoc"
   ]
  },
  {
   "cell_type": "code",
   "execution_count": 17,
   "metadata": {},
   "outputs": [
    {
     "data": {
      "text/html": [
       "<div>\n",
       "<style scoped>\n",
       "    .dataframe tbody tr th:only-of-type {\n",
       "        vertical-align: middle;\n",
       "    }\n",
       "\n",
       "    .dataframe tbody tr th {\n",
       "        vertical-align: top;\n",
       "    }\n",
       "\n",
       "    .dataframe thead th {\n",
       "        text-align: right;\n",
       "    }\n",
       "</style>\n",
       "<table border=\"1\" class=\"dataframe\">\n",
       "  <thead>\n",
       "    <tr style=\"text-align: right;\">\n",
       "      <th></th>\n",
       "      <th>ds</th>\n",
       "      <th>location</th>\n",
       "      <th>Area_Marla</th>\n",
       "      <th>bedrooms</th>\n",
       "      <th>bathrooms</th>\n",
       "      <th>price</th>\n",
       "    </tr>\n",
       "  </thead>\n",
       "  <tbody>\n",
       "    <tr>\n",
       "      <th>0</th>\n",
       "      <td>2020-11-17</td>\n",
       "      <td>D-12, Islamabad</td>\n",
       "      <td>4.4</td>\n",
       "      <td>4</td>\n",
       "      <td>4</td>\n",
       "      <td>2.651258e+07</td>\n",
       "    </tr>\n",
       "    <tr>\n",
       "      <th>1</th>\n",
       "      <td>2021-12-17</td>\n",
       "      <td>D-12, Islamabad</td>\n",
       "      <td>4.4</td>\n",
       "      <td>4</td>\n",
       "      <td>4</td>\n",
       "      <td>2.702375e+07</td>\n",
       "    </tr>\n",
       "    <tr>\n",
       "      <th>2</th>\n",
       "      <td>2022-01-17</td>\n",
       "      <td>D-12, Islamabad</td>\n",
       "      <td>4.4</td>\n",
       "      <td>4</td>\n",
       "      <td>4</td>\n",
       "      <td>3.005134e+07</td>\n",
       "    </tr>\n",
       "    <tr>\n",
       "      <th>3</th>\n",
       "      <td>2022-01-20</td>\n",
       "      <td>D-12, Islamabad</td>\n",
       "      <td>4.4</td>\n",
       "      <td>4</td>\n",
       "      <td>4</td>\n",
       "      <td>3.126493e+07</td>\n",
       "    </tr>\n",
       "    <tr>\n",
       "      <th>4</th>\n",
       "      <td>2022-02-03</td>\n",
       "      <td>D-12, Islamabad</td>\n",
       "      <td>4.4</td>\n",
       "      <td>4</td>\n",
       "      <td>4</td>\n",
       "      <td>3.148655e+07</td>\n",
       "    </tr>\n",
       "    <tr>\n",
       "      <th>...</th>\n",
       "      <td>...</td>\n",
       "      <td>...</td>\n",
       "      <td>...</td>\n",
       "      <td>...</td>\n",
       "      <td>...</td>\n",
       "      <td>...</td>\n",
       "    </tr>\n",
       "    <tr>\n",
       "      <th>2622</th>\n",
       "      <td>2023-02-13</td>\n",
       "      <td>D-12, Islamabad</td>\n",
       "      <td>20.0</td>\n",
       "      <td>9</td>\n",
       "      <td>9</td>\n",
       "      <td>2.714622e+07</td>\n",
       "    </tr>\n",
       "    <tr>\n",
       "      <th>2623</th>\n",
       "      <td>2023-02-14</td>\n",
       "      <td>D-12, Islamabad</td>\n",
       "      <td>20.0</td>\n",
       "      <td>9</td>\n",
       "      <td>9</td>\n",
       "      <td>6.132937e+07</td>\n",
       "    </tr>\n",
       "    <tr>\n",
       "      <th>2624</th>\n",
       "      <td>2023-02-15</td>\n",
       "      <td>D-12, Islamabad</td>\n",
       "      <td>20.0</td>\n",
       "      <td>9</td>\n",
       "      <td>9</td>\n",
       "      <td>2.673205e+07</td>\n",
       "    </tr>\n",
       "    <tr>\n",
       "      <th>2625</th>\n",
       "      <td>2023-02-16</td>\n",
       "      <td>D-12, Islamabad</td>\n",
       "      <td>20.0</td>\n",
       "      <td>9</td>\n",
       "      <td>9</td>\n",
       "      <td>5.472455e+07</td>\n",
       "    </tr>\n",
       "    <tr>\n",
       "      <th>2626</th>\n",
       "      <td>2023-02-17</td>\n",
       "      <td>D-12, Islamabad</td>\n",
       "      <td>20.0</td>\n",
       "      <td>9</td>\n",
       "      <td>9</td>\n",
       "      <td>4.933245e+07</td>\n",
       "    </tr>\n",
       "  </tbody>\n",
       "</table>\n",
       "<p>2491 rows × 6 columns</p>\n",
       "</div>"
      ],
      "text/plain": [
       "              ds         location  Area_Marla  bedrooms  bathrooms  \\\n",
       "0     2020-11-17  D-12, Islamabad         4.4         4          4   \n",
       "1     2021-12-17  D-12, Islamabad         4.4         4          4   \n",
       "2     2022-01-17  D-12, Islamabad         4.4         4          4   \n",
       "3     2022-01-20  D-12, Islamabad         4.4         4          4   \n",
       "4     2022-02-03  D-12, Islamabad         4.4         4          4   \n",
       "...          ...              ...         ...       ...        ...   \n",
       "2622  2023-02-13  D-12, Islamabad        20.0         9          9   \n",
       "2623  2023-02-14  D-12, Islamabad        20.0         9          9   \n",
       "2624  2023-02-15  D-12, Islamabad        20.0         9          9   \n",
       "2625  2023-02-16  D-12, Islamabad        20.0         9          9   \n",
       "2626  2023-02-17  D-12, Islamabad        20.0         9          9   \n",
       "\n",
       "             price  \n",
       "0     2.651258e+07  \n",
       "1     2.702375e+07  \n",
       "2     3.005134e+07  \n",
       "3     3.126493e+07  \n",
       "4     3.148655e+07  \n",
       "...            ...  \n",
       "2622  2.714622e+07  \n",
       "2623  6.132937e+07  \n",
       "2624  2.673205e+07  \n",
       "2625  5.472455e+07  \n",
       "2626  4.933245e+07  \n",
       "\n",
       "[2491 rows x 6 columns]"
      ]
     },
     "execution_count": 17,
     "metadata": {},
     "output_type": "execute_result"
    }
   ],
   "source": [
    "dfM=dfX[dfX['location']==dfLoc[0]]\n",
    "dfM"
   ]
  },
  {
   "cell_type": "code",
   "execution_count": 34,
   "metadata": {},
   "outputs": [
    {
     "data": {
      "text/plain": [
       "[4.4, 5.0, 4.0, 14.0, 8.0, 10.0, 20.0]"
      ]
     },
     "execution_count": 34,
     "metadata": {},
     "output_type": "execute_result"
    }
   ],
   "source": [
    "marlalst=list(dfM.Area_Marla.unique())\n",
    "marlalst"
   ]
  },
  {
   "cell_type": "code",
   "execution_count": 36,
   "metadata": {},
   "outputs": [],
   "source": [
    "baths=dfM[dfM['Area_Marla']==marlalst[2]]['bathrooms'].unique()"
   ]
  },
  {
   "cell_type": "code",
   "execution_count": 37,
   "metadata": {},
   "outputs": [],
   "source": [
    "beds=dfM[dfM['Area_Marla']==marlalst[2]]['bedrooms'].unique()"
   ]
  },
  {
   "cell_type": "code",
   "execution_count": 59,
   "metadata": {},
   "outputs": [
    {
     "data": {
      "text/html": [
       "<div>\n",
       "<style scoped>\n",
       "    .dataframe tbody tr th:only-of-type {\n",
       "        vertical-align: middle;\n",
       "    }\n",
       "\n",
       "    .dataframe tbody tr th {\n",
       "        vertical-align: top;\n",
       "    }\n",
       "\n",
       "    .dataframe thead th {\n",
       "        text-align: right;\n",
       "    }\n",
       "</style>\n",
       "<table border=\"1\" class=\"dataframe\">\n",
       "  <thead>\n",
       "    <tr style=\"text-align: right;\">\n",
       "      <th></th>\n",
       "      <th>ds</th>\n",
       "      <th>location</th>\n",
       "      <th>Area_Marla</th>\n",
       "      <th>bedrooms</th>\n",
       "      <th>bathrooms</th>\n",
       "      <th>price</th>\n",
       "    </tr>\n",
       "  </thead>\n",
       "  <tbody>\n",
       "    <tr>\n",
       "      <th>748</th>\n",
       "      <td>2021-06-17</td>\n",
       "      <td>D-12, Islamabad</td>\n",
       "      <td>4.0</td>\n",
       "      <td>4</td>\n",
       "      <td>5</td>\n",
       "      <td>3.301886e+07</td>\n",
       "    </tr>\n",
       "    <tr>\n",
       "      <th>749</th>\n",
       "      <td>2021-09-17</td>\n",
       "      <td>D-12, Islamabad</td>\n",
       "      <td>4.0</td>\n",
       "      <td>4</td>\n",
       "      <td>5</td>\n",
       "      <td>2.732734e+07</td>\n",
       "    </tr>\n",
       "    <tr>\n",
       "      <th>750</th>\n",
       "      <td>2021-11-17</td>\n",
       "      <td>D-12, Islamabad</td>\n",
       "      <td>4.0</td>\n",
       "      <td>4</td>\n",
       "      <td>5</td>\n",
       "      <td>3.160397e+07</td>\n",
       "    </tr>\n",
       "    <tr>\n",
       "      <th>751</th>\n",
       "      <td>2021-12-17</td>\n",
       "      <td>D-12, Islamabad</td>\n",
       "      <td>4.0</td>\n",
       "      <td>4</td>\n",
       "      <td>5</td>\n",
       "      <td>2.711838e+07</td>\n",
       "    </tr>\n",
       "    <tr>\n",
       "      <th>752</th>\n",
       "      <td>2022-01-17</td>\n",
       "      <td>D-12, Islamabad</td>\n",
       "      <td>4.0</td>\n",
       "      <td>4</td>\n",
       "      <td>5</td>\n",
       "      <td>2.761879e+07</td>\n",
       "    </tr>\n",
       "    <tr>\n",
       "      <th>...</th>\n",
       "      <td>...</td>\n",
       "      <td>...</td>\n",
       "      <td>...</td>\n",
       "      <td>...</td>\n",
       "      <td>...</td>\n",
       "      <td>...</td>\n",
       "    </tr>\n",
       "    <tr>\n",
       "      <th>1124</th>\n",
       "      <td>2023-02-13</td>\n",
       "      <td>D-12, Islamabad</td>\n",
       "      <td>4.0</td>\n",
       "      <td>4</td>\n",
       "      <td>5</td>\n",
       "      <td>2.671865e+07</td>\n",
       "    </tr>\n",
       "    <tr>\n",
       "      <th>1125</th>\n",
       "      <td>2023-02-14</td>\n",
       "      <td>D-12, Islamabad</td>\n",
       "      <td>4.0</td>\n",
       "      <td>4</td>\n",
       "      <td>5</td>\n",
       "      <td>2.735054e+07</td>\n",
       "    </tr>\n",
       "    <tr>\n",
       "      <th>1126</th>\n",
       "      <td>2023-02-15</td>\n",
       "      <td>D-12, Islamabad</td>\n",
       "      <td>4.0</td>\n",
       "      <td>4</td>\n",
       "      <td>5</td>\n",
       "      <td>3.055917e+07</td>\n",
       "    </tr>\n",
       "    <tr>\n",
       "      <th>1127</th>\n",
       "      <td>2023-02-16</td>\n",
       "      <td>D-12, Islamabad</td>\n",
       "      <td>4.0</td>\n",
       "      <td>4</td>\n",
       "      <td>5</td>\n",
       "      <td>3.162042e+07</td>\n",
       "    </tr>\n",
       "    <tr>\n",
       "      <th>1128</th>\n",
       "      <td>2023-02-17</td>\n",
       "      <td>D-12, Islamabad</td>\n",
       "      <td>4.0</td>\n",
       "      <td>4</td>\n",
       "      <td>5</td>\n",
       "      <td>2.613787e+07</td>\n",
       "    </tr>\n",
       "  </tbody>\n",
       "</table>\n",
       "<p>381 rows × 6 columns</p>\n",
       "</div>"
      ],
      "text/plain": [
       "              ds         location  Area_Marla  bedrooms  bathrooms  \\\n",
       "748   2021-06-17  D-12, Islamabad         4.0         4          5   \n",
       "749   2021-09-17  D-12, Islamabad         4.0         4          5   \n",
       "750   2021-11-17  D-12, Islamabad         4.0         4          5   \n",
       "751   2021-12-17  D-12, Islamabad         4.0         4          5   \n",
       "752   2022-01-17  D-12, Islamabad         4.0         4          5   \n",
       "...          ...              ...         ...       ...        ...   \n",
       "1124  2023-02-13  D-12, Islamabad         4.0         4          5   \n",
       "1125  2023-02-14  D-12, Islamabad         4.0         4          5   \n",
       "1126  2023-02-15  D-12, Islamabad         4.0         4          5   \n",
       "1127  2023-02-16  D-12, Islamabad         4.0         4          5   \n",
       "1128  2023-02-17  D-12, Islamabad         4.0         4          5   \n",
       "\n",
       "             price  \n",
       "748   3.301886e+07  \n",
       "749   2.732734e+07  \n",
       "750   3.160397e+07  \n",
       "751   2.711838e+07  \n",
       "752   2.761879e+07  \n",
       "...            ...  \n",
       "1124  2.671865e+07  \n",
       "1125  2.735054e+07  \n",
       "1126  3.055917e+07  \n",
       "1127  3.162042e+07  \n",
       "1128  2.613787e+07  \n",
       "\n",
       "[381 rows x 6 columns]"
      ]
     },
     "execution_count": 59,
     "metadata": {},
     "output_type": "execute_result"
    }
   ],
   "source": [
    "dfM=dfM[dfM['Area_Marla']==marlalst[2]]\n",
    "dfM"
   ]
  },
  {
   "cell_type": "code",
   "execution_count": 64,
   "metadata": {},
   "outputs": [
    {
     "data": {
      "text/plain": [
       "26941564.13880872"
      ]
     },
     "execution_count": 64,
     "metadata": {},
     "output_type": "execute_result"
    }
   ],
   "source": [
    "dfM[dfM['ds']==dat]['price'].iloc[0]"
   ]
  },
  {
   "cell_type": "code",
   "execution_count": 7,
   "metadata": {},
   "outputs": [
    {
     "data": {
      "text/plain": [
       "Index(['ds', 'location', 'Area_Marla', 'bedrooms', 'bathrooms', 'price'], dtype='object')"
      ]
     },
     "execution_count": 7,
     "metadata": {},
     "output_type": "execute_result"
    }
   ],
   "source": [
    "dfX.columns"
   ]
  },
  {
   "cell_type": "code",
   "execution_count": 8,
   "metadata": {},
   "outputs": [],
   "source": [
    "X_cols=[ 'Area_Marla', 'bedrooms', 'bathrooms']\n",
    "y_cols=['price']"
   ]
  },
  {
   "cell_type": "code",
   "execution_count": 11,
   "metadata": {},
   "outputs": [],
   "source": [
    "X_train, X_test, y_train, y_test=train_test_split(dfX[X_cols].values, dfX[y_cols].values, test_size=0.25, random_state=7)"
   ]
  },
  {
   "cell_type": "code",
   "execution_count": 29,
   "metadata": {},
   "outputs": [
    {
     "name": "stderr",
     "output_type": "stream",
     "text": [
      "<ipython-input-29-1cdd0c8af6ed>:2: DataConversionWarning: A column-vector y was passed when a 1d array was expected. Please change the shape of y to (n_samples,), for example using ravel().\n",
      "  model.fit(X_train,y_train)\n"
     ]
    },
    {
     "data": {
      "text/plain": [
       "RandomForestRegressor()"
      ]
     },
     "execution_count": 29,
     "metadata": {},
     "output_type": "execute_result"
    }
   ],
   "source": [
    "model = RandomForestRegressor()\n",
    "model.fit(X_train,y_train)"
   ]
  },
  {
   "cell_type": "code",
   "execution_count": 30,
   "metadata": {},
   "outputs": [],
   "source": [
    "y_pred=model.predict(X_test)\n",
    "# print(accuracy_score(y_test, y_pred)*100)"
   ]
  },
  {
   "cell_type": "code",
   "execution_count": 31,
   "metadata": {},
   "outputs": [
    {
     "data": {
      "text/plain": [
       "10.761283913264752"
      ]
     },
     "execution_count": 31,
     "metadata": {},
     "output_type": "execute_result"
    }
   ],
   "source": [
    "model.score(X_test,y_test)*100"
   ]
  },
  {
   "cell_type": "code",
   "execution_count": null,
   "metadata": {},
   "outputs": [],
   "source": [
    "y_pred"
   ]
  },
  {
   "cell_type": "code",
   "execution_count": 66,
   "metadata": {},
   "outputs": [
    {
     "ename": "NameError",
     "evalue": "name 'y_test' is not defined",
     "output_type": "error",
     "traceback": [
      "\u001b[1;31m---------------------------------------------------------------------------\u001b[0m",
      "\u001b[1;31mNameError\u001b[0m                                 Traceback (most recent call last)",
      "\u001b[1;32m<ipython-input-66-27d3425f7a85>\u001b[0m in \u001b[0;36m<module>\u001b[1;34m\u001b[0m\n\u001b[1;32m----> 1\u001b[1;33m \u001b[0my_test\u001b[0m\u001b[1;33m\u001b[0m\u001b[1;33m\u001b[0m\u001b[0m\n\u001b[0m",
      "\u001b[1;31mNameError\u001b[0m: name 'y_test' is not defined"
     ]
    }
   ],
   "source": [
    "y_test"
   ]
  },
  {
   "cell_type": "code",
   "execution_count": 73,
   "metadata": {},
   "outputs": [],
   "source": [
    "def listToString(s): \n",
    "    \n",
    "    # initialize an empty string\n",
    "    str1 = \"\" \n",
    "    \n",
    "    # traverse in the string  \n",
    "    for ele in s: \n",
    "        if(str1!=\"\"):\n",
    "            str1 +=\"+\" +ele  \n",
    "        else:\n",
    "            str1 +=ele  \n",
    "    \n",
    "    # return string  \n",
    "    return str1 "
   ]
  },
  {
   "cell_type": "code",
   "execution_count": 75,
   "metadata": {},
   "outputs": [],
   "source": [
    "#Getting all Unique locations\n",
    "locs=list(dfX.location.unique())\n",
    "vals=listToString(locs)"
   ]
  },
  {
   "cell_type": "code",
   "execution_count": 77,
   "metadata": {},
   "outputs": [
    {
     "data": {
      "text/plain": [
       "'D-12, Islamabad+D-12/1, D-12+D-12/4, D-12'"
      ]
     },
     "execution_count": 77,
     "metadata": {},
     "output_type": "execute_result"
    }
   ],
   "source": [
    "vals"
   ]
  },
  {
   "cell_type": "code",
   "execution_count": null,
   "metadata": {},
   "outputs": [],
   "source": [
    "print(\"<select id='loc'>\")\n",
    "print(\"<option value=''>Select a location</option>\")\n",
    "for lc in locs:\n",
    "    print(f\"<option value='{lc}'>{lc}</option>\")\n",
    "print(\"</select)\")"
   ]
  }
 ],
 "metadata": {
  "kernelspec": {
   "display_name": "Python 3",
   "language": "python",
   "name": "python3"
  },
  "language_info": {
   "codemirror_mode": {
    "name": "ipython",
    "version": 3
   },
   "file_extension": ".py",
   "mimetype": "text/x-python",
   "name": "python",
   "nbconvert_exporter": "python",
   "pygments_lexer": "ipython3",
   "version": "3.8.3"
  }
 },
 "nbformat": 4,
 "nbformat_minor": 4
}
