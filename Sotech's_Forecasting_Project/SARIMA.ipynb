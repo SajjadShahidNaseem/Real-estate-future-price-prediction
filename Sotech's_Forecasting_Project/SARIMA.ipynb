{
 "cells": [
  {
   "cell_type": "code",
   "execution_count": 4,
   "metadata": {
    "id": "FPoTNZnXmkBV"
   },
   "outputs": [],
   "source": [
    "#Importing liberaries \n",
    "import numpy as np\n",
    "import pandas as pd\n",
    "from statsmodels.tsa.stattools import adfuller\n",
    "import matplotlib.pyplot as plt\n",
    "%matplotlib inline\n",
    "from statsmodels.graphics.tsaplots import plot_acf,plot_pacf\n",
    "import statsmodels.api as sm\n",
    "from statsmodels.tsa.seasonal import seasonal_decompose\n",
    "import warnings\n",
    "warnings.simplefilter(\"ignore\")"
   ]
  },
  {
   "cell_type": "code",
   "execution_count": null,
   "metadata": {},
   "outputs": [],
   "source": []
  },
  {
   "cell_type": "code",
   "execution_count": 5,
   "metadata": {
    "colab": {
     "base_uri": "https://localhost:8080/",
     "height": 424
    },
    "id": "TDjjE4uNmkBg",
    "outputId": "28e45190-aab7-42c2-ef13-7f92483cf910"
   },
   "outputs": [
    {
     "data": {
      "text/html": [
       "<div>\n",
       "<style scoped>\n",
       "    .dataframe tbody tr th:only-of-type {\n",
       "        vertical-align: middle;\n",
       "    }\n",
       "\n",
       "    .dataframe tbody tr th {\n",
       "        vertical-align: top;\n",
       "    }\n",
       "\n",
       "    .dataframe thead th {\n",
       "        text-align: right;\n",
       "    }\n",
       "</style>\n",
       "<table border=\"1\" class=\"dataframe\">\n",
       "  <thead>\n",
       "    <tr style=\"text-align: right;\">\n",
       "      <th></th>\n",
       "      <th>date</th>\n",
       "      <th>location</th>\n",
       "      <th>bedrooms</th>\n",
       "      <th>bathrooms</th>\n",
       "      <th>Area_Marla</th>\n",
       "      <th>price</th>\n",
       "    </tr>\n",
       "  </thead>\n",
       "  <tbody>\n",
       "    <tr>\n",
       "      <th>0</th>\n",
       "      <td>5/17/2020</td>\n",
       "      <td>D-12/3, D-12</td>\n",
       "      <td>8.0</td>\n",
       "      <td>8.0</td>\n",
       "      <td>24.0</td>\n",
       "      <td>120000000</td>\n",
       "    </tr>\n",
       "    <tr>\n",
       "      <th>1</th>\n",
       "      <td>11/17/2020</td>\n",
       "      <td>D-12, Islamabad</td>\n",
       "      <td>5.0</td>\n",
       "      <td>5.0</td>\n",
       "      <td>4.4</td>\n",
       "      <td>26500000</td>\n",
       "    </tr>\n",
       "    <tr>\n",
       "      <th>2</th>\n",
       "      <td>3/17/2021</td>\n",
       "      <td>D-12, Islamabad</td>\n",
       "      <td>4.0</td>\n",
       "      <td>5.0</td>\n",
       "      <td>5.0</td>\n",
       "      <td>29000000</td>\n",
       "    </tr>\n",
       "    <tr>\n",
       "      <th>3</th>\n",
       "      <td>4/17/2021</td>\n",
       "      <td>D-12/2, D-12</td>\n",
       "      <td>8.0</td>\n",
       "      <td>8.0</td>\n",
       "      <td>24.0</td>\n",
       "      <td>110000000</td>\n",
       "    </tr>\n",
       "    <tr>\n",
       "      <th>4</th>\n",
       "      <td>4/17/2021</td>\n",
       "      <td>D-12/1, D-12</td>\n",
       "      <td>4.0</td>\n",
       "      <td>4.0</td>\n",
       "      <td>4.0</td>\n",
       "      <td>29000000</td>\n",
       "    </tr>\n",
       "    <tr>\n",
       "      <th>...</th>\n",
       "      <td>...</td>\n",
       "      <td>...</td>\n",
       "      <td>...</td>\n",
       "      <td>...</td>\n",
       "      <td>...</td>\n",
       "      <td>...</td>\n",
       "    </tr>\n",
       "    <tr>\n",
       "      <th>297</th>\n",
       "      <td>2/17/2022</td>\n",
       "      <td>D-12, Islamabad</td>\n",
       "      <td>2.0</td>\n",
       "      <td>2.0</td>\n",
       "      <td>4.0</td>\n",
       "      <td>95000000</td>\n",
       "    </tr>\n",
       "    <tr>\n",
       "      <th>298</th>\n",
       "      <td>2/17/2022</td>\n",
       "      <td>D-12, Islamabad</td>\n",
       "      <td>2.0</td>\n",
       "      <td>2.0</td>\n",
       "      <td>4.0</td>\n",
       "      <td>15800000</td>\n",
       "    </tr>\n",
       "    <tr>\n",
       "      <th>299</th>\n",
       "      <td>2/17/2022</td>\n",
       "      <td>D-12, Islamabad</td>\n",
       "      <td>3.0</td>\n",
       "      <td>4.0</td>\n",
       "      <td>4.4</td>\n",
       "      <td>25500000</td>\n",
       "    </tr>\n",
       "    <tr>\n",
       "      <th>300</th>\n",
       "      <td>2/17/2022</td>\n",
       "      <td>D-12/2, D-12</td>\n",
       "      <td>7.0</td>\n",
       "      <td>8.0</td>\n",
       "      <td>8.0</td>\n",
       "      <td>70000000</td>\n",
       "    </tr>\n",
       "    <tr>\n",
       "      <th>301</th>\n",
       "      <td>2/17/2022</td>\n",
       "      <td>D-12, Islamabad</td>\n",
       "      <td>6.0</td>\n",
       "      <td>9.0</td>\n",
       "      <td>8.0</td>\n",
       "      <td>79000000</td>\n",
       "    </tr>\n",
       "  </tbody>\n",
       "</table>\n",
       "<p>302 rows × 6 columns</p>\n",
       "</div>"
      ],
      "text/plain": [
       "           date         location  bedrooms  bathrooms  Area_Marla      price\n",
       "0     5/17/2020     D-12/3, D-12       8.0        8.0        24.0  120000000\n",
       "1    11/17/2020  D-12, Islamabad       5.0        5.0         4.4   26500000\n",
       "2     3/17/2021  D-12, Islamabad       4.0        5.0         5.0   29000000\n",
       "3     4/17/2021     D-12/2, D-12       8.0        8.0        24.0  110000000\n",
       "4     4/17/2021     D-12/1, D-12       4.0        4.0         4.0   29000000\n",
       "..          ...              ...       ...        ...         ...        ...\n",
       "297   2/17/2022  D-12, Islamabad       2.0        2.0         4.0   95000000\n",
       "298   2/17/2022  D-12, Islamabad       2.0        2.0         4.0   15800000\n",
       "299   2/17/2022  D-12, Islamabad       3.0        4.0         4.4   25500000\n",
       "300   2/17/2022     D-12/2, D-12       7.0        8.0         8.0   70000000\n",
       "301   2/17/2022  D-12, Islamabad       6.0        9.0         8.0   79000000\n",
       "\n",
       "[302 rows x 6 columns]"
      ]
     },
     "execution_count": 5,
     "metadata": {},
     "output_type": "execute_result"
    }
   ],
   "source": [
    "#Loading the data file\n",
    "df=pd.read_csv('dataz.csv')\n",
    "df"
   ]
  },
  {
   "cell_type": "code",
   "execution_count": null,
   "metadata": {},
   "outputs": [],
   "source": []
  },
  {
   "cell_type": "code",
   "execution_count": 6,
   "metadata": {
    "id": "Xr9KGDuCmkBi"
   },
   "outputs": [],
   "source": [
    "# Convert Month into Datetime\n",
    "df['date']=pd.to_datetime(df['date'])"
   ]
  },
  {
   "cell_type": "code",
   "execution_count": 7,
   "metadata": {
    "id": "tL4FX3N2mkBj"
   },
   "outputs": [],
   "source": [
    "#Indexing the \n",
    "df.set_index('date',inplace=True)"
   ]
  },
  {
   "cell_type": "code",
   "execution_count": 8,
   "metadata": {
    "colab": {
     "base_uri": "https://localhost:8080/",
     "height": 300
    },
    "id": "NAEUIZTwmkBm",
    "outputId": "6c202f5b-5b56-4dc4-f10a-1b39b99bc708"
   },
   "outputs": [
    {
     "data": {
      "text/html": [
       "<div>\n",
       "<style scoped>\n",
       "    .dataframe tbody tr th:only-of-type {\n",
       "        vertical-align: middle;\n",
       "    }\n",
       "\n",
       "    .dataframe tbody tr th {\n",
       "        vertical-align: top;\n",
       "    }\n",
       "\n",
       "    .dataframe thead th {\n",
       "        text-align: right;\n",
       "    }\n",
       "</style>\n",
       "<table border=\"1\" class=\"dataframe\">\n",
       "  <thead>\n",
       "    <tr style=\"text-align: right;\">\n",
       "      <th></th>\n",
       "      <th>bedrooms</th>\n",
       "      <th>bathrooms</th>\n",
       "      <th>Area_Marla</th>\n",
       "      <th>price</th>\n",
       "    </tr>\n",
       "  </thead>\n",
       "  <tbody>\n",
       "    <tr>\n",
       "      <th>count</th>\n",
       "      <td>246.000000</td>\n",
       "      <td>242.000000</td>\n",
       "      <td>302.00000</td>\n",
       "      <td>3.020000e+02</td>\n",
       "    </tr>\n",
       "    <tr>\n",
       "      <th>mean</th>\n",
       "      <td>5.154472</td>\n",
       "      <td>5.665289</td>\n",
       "      <td>8.67053</td>\n",
       "      <td>5.692228e+07</td>\n",
       "    </tr>\n",
       "    <tr>\n",
       "      <th>std</th>\n",
       "      <td>2.068352</td>\n",
       "      <td>2.151800</td>\n",
       "      <td>6.98033</td>\n",
       "      <td>3.368112e+07</td>\n",
       "    </tr>\n",
       "    <tr>\n",
       "      <th>min</th>\n",
       "      <td>2.000000</td>\n",
       "      <td>2.000000</td>\n",
       "      <td>3.30000</td>\n",
       "      <td>1.000000e+07</td>\n",
       "    </tr>\n",
       "    <tr>\n",
       "      <th>25%</th>\n",
       "      <td>4.000000</td>\n",
       "      <td>4.000000</td>\n",
       "      <td>4.00000</td>\n",
       "      <td>3.000000e+07</td>\n",
       "    </tr>\n",
       "    <tr>\n",
       "      <th>50%</th>\n",
       "      <td>5.000000</td>\n",
       "      <td>5.000000</td>\n",
       "      <td>7.00000</td>\n",
       "      <td>4.650000e+07</td>\n",
       "    </tr>\n",
       "    <tr>\n",
       "      <th>75%</th>\n",
       "      <td>6.000000</td>\n",
       "      <td>7.000000</td>\n",
       "      <td>10.00000</td>\n",
       "      <td>7.000000e+07</td>\n",
       "    </tr>\n",
       "    <tr>\n",
       "      <th>max</th>\n",
       "      <td>11.000000</td>\n",
       "      <td>10.000000</td>\n",
       "      <td>80.00000</td>\n",
       "      <td>1.650000e+08</td>\n",
       "    </tr>\n",
       "  </tbody>\n",
       "</table>\n",
       "</div>"
      ],
      "text/plain": [
       "         bedrooms   bathrooms  Area_Marla         price\n",
       "count  246.000000  242.000000   302.00000  3.020000e+02\n",
       "mean     5.154472    5.665289     8.67053  5.692228e+07\n",
       "std      2.068352    2.151800     6.98033  3.368112e+07\n",
       "min      2.000000    2.000000     3.30000  1.000000e+07\n",
       "25%      4.000000    4.000000     4.00000  3.000000e+07\n",
       "50%      5.000000    5.000000     7.00000  4.650000e+07\n",
       "75%      6.000000    7.000000    10.00000  7.000000e+07\n",
       "max     11.000000   10.000000    80.00000  1.650000e+08"
      ]
     },
     "execution_count": 8,
     "metadata": {},
     "output_type": "execute_result"
    }
   ],
   "source": [
    "#Statistics of the data\n",
    "df.describe()"
   ]
  },
  {
   "cell_type": "code",
   "execution_count": 9,
   "metadata": {
    "colab": {
     "base_uri": "https://localhost:8080/"
    },
    "id": "Jvqc5RZRmkBp",
    "outputId": "1544b8e6-3602-42ed-9385-22885bb71a60"
   },
   "outputs": [
    {
     "data": {
      "text/plain": [
       "location       object\n",
       "bedrooms      float64\n",
       "bathrooms     float64\n",
       "Area_Marla    float64\n",
       "price           int64\n",
       "dtype: object"
      ]
     },
     "execution_count": 9,
     "metadata": {},
     "output_type": "execute_result"
    }
   ],
   "source": [
    "#Types of columns\n",
    "df.dtypes"
   ]
  },
  {
   "cell_type": "code",
   "execution_count": 10,
   "metadata": {
    "colab": {
     "base_uri": "https://localhost:8080/"
    },
    "id": "oLhPf_nrmkBr",
    "outputId": "1e58d0d1-6c83-409f-f09b-204cd107165b"
   },
   "outputs": [
    {
     "data": {
      "text/plain": [
       "location       0\n",
       "bedrooms      56\n",
       "bathrooms     60\n",
       "Area_Marla     0\n",
       "price          0\n",
       "dtype: int64"
      ]
     },
     "execution_count": 10,
     "metadata": {},
     "output_type": "execute_result"
    }
   ],
   "source": [
    "#looking for Null values we have zero nan values \n",
    "df.isnull().sum()"
   ]
  },
  {
   "cell_type": "code",
   "execution_count": 11,
   "metadata": {
    "id": "_4O2gDxLnnmQ"
   },
   "outputs": [],
   "source": [
    "#Median of bedrooms \n",
    "import math\n",
    "median_bedrooms =  math.floor(df['bedrooms'].median()) \n",
    "#Median of bathrooms\n",
    "median_bathrooms =  math.floor(df['bathrooms'].median()) "
   ]
  },
  {
   "cell_type": "code",
   "execution_count": 12,
   "metadata": {
    "id": "7ZhKa-lzmkBt"
   },
   "outputs": [],
   "source": [
    "df['bedrooms'].fillna(median_bedrooms , inplace = True)\n",
    "df['bathrooms'].fillna(median_bathrooms , inplace = True)"
   ]
  },
  {
   "cell_type": "code",
   "execution_count": 13,
   "metadata": {
    "colab": {
     "base_uri": "https://localhost:8080/",
     "height": 238
    },
    "id": "KaBoLgQKmkBx",
    "outputId": "3a1f5429-8312-43fc-9955-8a02558c64da"
   },
   "outputs": [
    {
     "data": {
      "text/html": [
       "<div>\n",
       "<style scoped>\n",
       "    .dataframe tbody tr th:only-of-type {\n",
       "        vertical-align: middle;\n",
       "    }\n",
       "\n",
       "    .dataframe tbody tr th {\n",
       "        vertical-align: top;\n",
       "    }\n",
       "\n",
       "    .dataframe thead th {\n",
       "        text-align: right;\n",
       "    }\n",
       "</style>\n",
       "<table border=\"1\" class=\"dataframe\">\n",
       "  <thead>\n",
       "    <tr style=\"text-align: right;\">\n",
       "      <th></th>\n",
       "      <th>location</th>\n",
       "      <th>bedrooms</th>\n",
       "      <th>bathrooms</th>\n",
       "      <th>Area_Marla</th>\n",
       "      <th>price</th>\n",
       "    </tr>\n",
       "    <tr>\n",
       "      <th>date</th>\n",
       "      <th></th>\n",
       "      <th></th>\n",
       "      <th></th>\n",
       "      <th></th>\n",
       "      <th></th>\n",
       "    </tr>\n",
       "  </thead>\n",
       "  <tbody>\n",
       "    <tr>\n",
       "      <th>2020-05-17</th>\n",
       "      <td>D-12/3, D-12</td>\n",
       "      <td>8.0</td>\n",
       "      <td>8.0</td>\n",
       "      <td>24.0</td>\n",
       "      <td>120000000</td>\n",
       "    </tr>\n",
       "    <tr>\n",
       "      <th>2020-11-17</th>\n",
       "      <td>D-12, Islamabad</td>\n",
       "      <td>5.0</td>\n",
       "      <td>5.0</td>\n",
       "      <td>4.4</td>\n",
       "      <td>26500000</td>\n",
       "    </tr>\n",
       "    <tr>\n",
       "      <th>2021-03-17</th>\n",
       "      <td>D-12, Islamabad</td>\n",
       "      <td>4.0</td>\n",
       "      <td>5.0</td>\n",
       "      <td>5.0</td>\n",
       "      <td>29000000</td>\n",
       "    </tr>\n",
       "    <tr>\n",
       "      <th>2021-04-17</th>\n",
       "      <td>D-12/2, D-12</td>\n",
       "      <td>8.0</td>\n",
       "      <td>8.0</td>\n",
       "      <td>24.0</td>\n",
       "      <td>110000000</td>\n",
       "    </tr>\n",
       "    <tr>\n",
       "      <th>2021-04-17</th>\n",
       "      <td>D-12/1, D-12</td>\n",
       "      <td>4.0</td>\n",
       "      <td>4.0</td>\n",
       "      <td>4.0</td>\n",
       "      <td>29000000</td>\n",
       "    </tr>\n",
       "  </tbody>\n",
       "</table>\n",
       "</div>"
      ],
      "text/plain": [
       "                   location  bedrooms  bathrooms  Area_Marla      price\n",
       "date                                                                   \n",
       "2020-05-17     D-12/3, D-12       8.0        8.0        24.0  120000000\n",
       "2020-11-17  D-12, Islamabad       5.0        5.0         4.4   26500000\n",
       "2021-03-17  D-12, Islamabad       4.0        5.0         5.0   29000000\n",
       "2021-04-17     D-12/2, D-12       8.0        8.0        24.0  110000000\n",
       "2021-04-17     D-12/1, D-12       4.0        4.0         4.0   29000000"
      ]
     },
     "execution_count": 13,
     "metadata": {},
     "output_type": "execute_result"
    }
   ],
   "source": [
    "df.head()"
   ]
  },
  {
   "cell_type": "code",
   "execution_count": 14,
   "metadata": {
    "colab": {
     "base_uri": "https://localhost:8080/",
     "height": 540
    },
    "id": "i8-8a8XwmkB0",
    "outputId": "a3c5dcf8-e519-447e-c8d1-a755479415df"
   },
   "outputs": [
    {
     "data": {
      "image/png": "[encoded data removed]",
      "text/plain": [
       "<Figure size 720x576 with 4 Axes>"
      ]
     },
     "metadata": {
      "needs_background": "light"
     },
     "output_type": "display_data"
    }
   ],
   "source": [
    "#Plotting the data\n",
    "fig = plt.figure(figsize=(10,8))\n",
    "\n",
    "plt.subplot(411)\n",
    "plt.plot(df['bedrooms'], label='bedrooms')\n",
    "plt.legend(loc='best')\n",
    "plt.subplot(412)\n",
    "plt.plot(df['bathrooms'], label='bathrooms')\n",
    "plt.legend(loc='best')\n",
    "plt.subplot(413)\n",
    "plt.plot(df['Area_Marla'],label='Area_Marla')\n",
    "plt.legend(loc='best')\n",
    "plt.subplot(414)\n",
    "plt.plot(df['price'], label='price')\n",
    "plt.legend(loc='best')\n",
    "\n",
    "fig.suptitle('Houses data')\n",
    "plt.show()"
   ]
  },
  {
   "cell_type": "code",
   "execution_count": 27,
   "metadata": {
    "colab": {
     "base_uri": "https://localhost:8080/"
    },
    "id": "jDq0YEvWpsUV",
    "outputId": "e702c7a0-400d-426c-8945-bb361c3af65a"
   },
   "outputs": [
    {
     "data": {
      "text/plain": [
       "array(['D-12/3, D-12', 'D-12, Islamabad', 'D-12/2, D-12', 'D-12/1, D-12',\n",
       "       'D-12/4, D-12', 'Karsaaz Villas, D-12', 'D-12 Markaz, D-12'],\n",
       "      dtype=object)"
      ]
     },
     "execution_count": 27,
     "metadata": {},
     "output_type": "execute_result"
    }
   ],
   "source": [
    "#Decompose the data with the help of location column\n",
    "df['location'].unique()"
   ]
  },
  {
   "cell_type": "code",
   "execution_count": 16,
   "metadata": {
    "id": "IGckPGHbqW_N"
   },
   "outputs": [],
   "source": [
    "#Selecting only D-12/3, D-12 area values \n",
    "newdf = df.loc[df['location'] == 'D-12/3, D-12']"
   ]
  },
  {
   "cell_type": "code",
   "execution_count": 17,
   "metadata": {
    "colab": {
     "base_uri": "https://localhost:8080/"
    },
    "id": "NBOe_rm6s2x2",
    "outputId": "51d88c89-44ec-4800-b54a-2fbb6564e09a"
   },
   "outputs": [
    {
     "data": {
      "text/plain": [
       "array([24. ,  4. ,  5.6,  5. , 10. ,  8. , 20. ])"
      ]
     },
     "execution_count": 17,
     "metadata": {},
     "output_type": "execute_result"
    }
   ],
   "source": [
    "#Now selecting onlt 4 marla houese \n",
    "newdf['Area_Marla'].unique()"
   ]
  },
  {
   "cell_type": "code",
   "execution_count": 18,
   "metadata": {
    "id": "Dk77EgAgs2ua"
   },
   "outputs": [],
   "source": [
    "newdf1 = newdf.loc[newdf['Area_Marla'] == 4]"
   ]
  },
  {
   "cell_type": "code",
   "execution_count": 19,
   "metadata": {
    "colab": {
     "base_uri": "https://localhost:8080/",
     "height": 206
    },
    "id": "u_sYIJnUs2qq",
    "outputId": "aa9468fd-5d3a-4afa-df7f-b1508df33c29"
   },
   "outputs": [
    {
     "data": {
      "text/plain": [
       "DatetimeIndex(['2021-07-17', '2021-11-17', '2021-12-17', '2022-01-17'], dtype='datetime64[ns]', name='date', freq=None)"
      ]
     },
     "execution_count": 19,
     "metadata": {},
     "output_type": "execute_result"
    }
   ],
   "source": [
    "newdf1.index"
   ]
  },
  {
   "cell_type": "code",
   "execution_count": 23,
   "metadata": {
    "id": "em7InpC9s2ne"
   },
   "outputs": [],
   "source": [
    "import pmdarima\n"
   ]
  },
  {
   "cell_type": "code",
   "execution_count": 43,
   "metadata": {},
   "outputs": [],
   "source": [
    "y = newdf1['price']"
   ]
  },
  {
   "cell_type": "code",
   "execution_count": 44,
   "metadata": {},
   "outputs": [
    {
     "ename": "SyntaxError",
     "evalue": "expression cannot contain assignment, perhaps you meant \"==\"? (<ipython-input-44-0e157d7ee8e4>, line 2)",
     "output_type": "error",
     "traceback": [
      "\u001b[1;36m  File \u001b[1;32m\"<ipython-input-44-0e157d7ee8e4>\"\u001b[1;36m, line \u001b[1;32m2\u001b[0m\n\u001b[1;33m    model = auto_arima(y, trace=True , d =0 , start.p = 1, start.q = 1 , max.p = 2, max.q = 2)\u001b[0m\n\u001b[1;37m                                              ^\u001b[0m\n\u001b[1;31mSyntaxError\u001b[0m\u001b[1;31m:\u001b[0m expression cannot contain assignment, perhaps you meant \"==\"?\n"
     ]
    }
   ],
   "source": [
    "from pmdarima import auto_arima\n",
    "model = auto_arima(y, trace=True , d =0 , start.p = 1, start.q = 1 , max.p = 2, max.q = 2)\n",
    "model.fit()"
   ]
  },
  {
   "cell_type": "code",
   "execution_count": null,
   "metadata": {
    "id": "nJVjkS1Js2ka"
   },
   "outputs": [],
   "source": [
    "#Fitting the model\n",
    "lst_m=[[1,0,0],[1,1,0],[0,0,1]]\n",
    "lst_ind=[]\n",
    "lst_vals=[]\n",
    "for i in range(len(lst_m)):\n",
    "    \n",
    "    model=ARIMA(newdf1['price'],order=(lst_m[i]))\n",
    "    model_fit=model.fit()\n",
    "    lst_vals.append(model_fit.aic)\n",
    "    lst_ind.append(i)\n",
    "    print(i)"
   ]
  },
  {
   "cell_type": "code",
   "execution_count": null,
   "metadata": {},
   "outputs": [],
   "source": [
    "lst_vals"
   ]
  },
  {
   "cell_type": "code",
   "execution_count": null,
   "metadata": {
    "colab": {
     "base_uri": "https://localhost:8080/",
     "height": 367
    },
    "id": "k3CFI81es2hG",
    "outputId": "97292244-9159-4260-caf6-8ce8a97dca90"
   },
   "outputs": [],
   "source": [
    "#Plotting the price and model data\n",
    "plt.figure(figsize=[15,5])\n",
    "plt.xlabel('Date')\n",
    "plt.title('Actual Vs Predictions')\n",
    "plt.ylabel('Price')\n",
    "plt.plot(newdf1['price'])\n",
    "plt.plot(model_fit.fittedvalues, color='red')"
   ]
  },
  {
   "cell_type": "code",
   "execution_count": null,
   "metadata": {
    "colab": {
     "base_uri": "https://localhost:8080/",
     "height": 276
    },
    "id": "Q9G2CFEPw7QF",
    "outputId": "ba66c48e-716e-456e-8657-b7d0b5ab3265"
   },
   "outputs": [],
   "source": [
    "#Plotting and forecasting the price values \n",
    "model_fit.plot_predict(1,200) \n",
    "x1=model_fit.forecast(steps=11)"
   ]
  },
  {
   "cell_type": "code",
   "execution_count": null,
   "metadata": {
    "colab": {
     "base_uri": "https://localhost:8080/"
    },
    "id": "vhFuws6RzQhu",
    "outputId": "45012b6b-0c22-4992-bca3-7c6b5a49c838"
   },
   "outputs": [],
   "source": [
    "#Future Values of future houses price\n",
    "x1[0]"
   ]
  },
  {
   "cell_type": "code",
   "execution_count": null,
   "metadata": {
    "colab": {
     "base_uri": "https://localhost:8080/"
    },
    "id": "KIhP23D9zUPZ",
    "outputId": "146ae4f8-971d-43a7-d934-e586b6d4cca1"
   },
   "outputs": [],
   "source": [
    "#Evaluate the result using RMSE on trianing \n",
    "from sklearn.metrics import mean_squared_error \n",
    "import numpy as np\n",
    "value1 = newdf1['price'] \n",
    "value2 = model_fit.fittedvalues\n",
    "np.sqrt(mean_squared_error(value1,value2))"
   ]
  },
  {
   "cell_type": "code",
   "execution_count": null,
   "metadata": {},
   "outputs": [],
   "source": [
    "lst=list(df['price'])\n",
    "lst1=list(x1[0])\n"
   ]
  },
  {
   "cell_type": "code",
   "execution_count": null,
   "metadata": {},
   "outputs": [],
   "source": [
    "for ls in lst1:\n",
    "    res=round(ls)\n",
    "    res=int(res)\n",
    "    lst.append(res)"
   ]
  },
  {
   "cell_type": "code",
   "execution_count": null,
   "metadata": {},
   "outputs": [],
   "source": [
    "lst_dates=list(newdf1.index)"
   ]
  },
  {
   "cell_type": "code",
   "execution_count": null,
   "metadata": {},
   "outputs": [],
   "source": [
    "from datetime import datetime\n",
    "from datetime import timedelta\n",
    "from dateutil.relativedelta import relativedelta"
   ]
  },
  {
   "cell_type": "code",
   "execution_count": null,
   "metadata": {},
   "outputs": [],
   "source": [
    "date=lst_dates[-1]\n",
    "for_dates=[]\n",
    "\n",
    "for i in range(len(x1[0])): \n",
    "    date += timedelta(days=1)\n",
    "    for_dates.append(date)\n",
    "    print(date) "
   ]
  },
  {
   "cell_type": "code",
   "execution_count": null,
   "metadata": {},
   "outputs": [],
   "source": [
    "x=lst_dates\n",
    "for_dates[0]=lst_dates[-1]\n",
    "xle=len(newdf1['price'])\n"
   ]
  },
  {
   "cell_type": "code",
   "execution_count": null,
   "metadata": {},
   "outputs": [],
   "source": [
    "plt.figure(figsize=(15,8))\n",
    "plt.plot(for_dates,x1[0],marker=\"o\")\n",
    "plt.plot(lst_dates,newdf1['price'],marker=\"o\")"
   ]
  },
  {
   "cell_type": "code",
   "execution_count": null,
   "metadata": {},
   "outputs": [],
   "source": []
  }
 ],
 "metadata": {
  "colab": {
   "collapsed_sections": [],
   "name": "SARIMA.ipynb",
   "provenance": []
  },
  "kernelspec": {
   "display_name": "Python 3",
   "language": "python",
   "name": "python3"
  },
  "language_info": {
   "codemirror_mode": {
    "name": "ipython",
    "version": 3
   },
   "file_extension": ".py",
   "mimetype": "text/x-python",
   "name": "python",
   "nbconvert_exporter": "python",
   "pygments_lexer": "ipython3",
   "version": "3.8.3"
  }
 },
 "nbformat": 4,
 "nbformat_minor": 1
}
